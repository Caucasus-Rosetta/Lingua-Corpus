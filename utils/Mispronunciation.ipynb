{
  "nbformat": 4,
  "nbformat_minor": 0,
  "metadata": {
    "colab": {
      "name": "Mispronunciation.ipynb",
      "provenance": [],
      "collapsed_sections": []
    },
    "kernelspec": {
      "name": "python3",
      "display_name": "Python 3"
    },
    "language_info": {
      "name": "python"
    }
  },
  "cells": [
    {
      "cell_type": "code",
      "metadata": {
        "id": "0YObtr_fI8lP"
      },
      "source": [
        "import re\n",
        "import pandas as pd\n",
        "corpus = pd.read_table(\"/content/ab-ru.tsv\")\n",
        "punct = re.compile('[\\w\\s-]',re.I)\n",
        "\n",
        "def clean_list(parallel_corpus):\n",
        "    result_list, mispunct_list = [], []\n",
        "\n",
        "    for index, translation in parallel_corpus.iterrows():\n",
        "        ru_signs = re.sub(punct,\"\", translation[0]) #replacing alphabe_ru with \"\" in string translation[0]\n",
        "        ab_signs = re.sub(punct,\"\", translation[1]) #replacing alphabe_ab with \"\" in string translation[1]\n",
        "        if ru_signs == ab_signs: #if both strings have same punctuattion\n",
        "            result_list.append(translation[0]+\"\\t\"+translation[1]+'\\n')\n",
        "        else:\n",
        "            mispunct_list.append(translation[0]+\"\\t\"+translation[1]+'\\n')\n",
        "\n",
        "    print(\"Filtered Punctuations: \"+str(round(100*len(mispunct_list)/(len(mispunct_list)+len(result_list))))+\"%\")\n",
        "\n",
        "    return result_list, mispunct_list\n",
        "corpus_filter = clean_list(corpus)\n",
        "with open(\"ab-ru-clean.tsv\",\"w+\") as f:\n",
        "  f.writelines(corpus_filter[0])\n",
        "with open(\"ab-ru-mispunct.tsv\",\"w+\") as f:\n",
        "  f.writelines(corpus_filter[1])"
      ],
      "execution_count": null,
      "outputs": []
    }
  ]
}