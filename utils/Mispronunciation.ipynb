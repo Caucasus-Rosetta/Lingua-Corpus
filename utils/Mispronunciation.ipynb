{
  "nbformat": 4,
  "nbformat_minor": 0,
  "metadata": {
    "colab": {
      "name": "Copy of Untitled25.ipynb",
      "provenance": [],
      "collapsed_sections": []
    },
    "kernelspec": {
      "name": "python3",
      "display_name": "Python 3"
    },
    "language_info": {
      "name": "python"
    },
    "accelerator": "GPU"
  },
  "cells": [
    {
      "cell_type": "code",
      "metadata": {
        "id": "AW0RxUlxYIda",
        "colab": {
          "base_uri": "https://localhost:8080/"
        },
        "outputId": "a4d55390-13f4-48bf-f8e8-4d1892103b43"
      },
      "source": [
        "import pandas as pd\n",
        "import io\n",
        "import re\n",
        "from os import listdir\n",
        "import io\n",
        "import random\n",
        "import json\n",
        "import datetime\n",
        "import argparse\n",
        "import sys\n",
        "#!wget https://raw.githubusercontent.com/danielinux7/Multilingual-Parallel-Corpus/master/ab-ru/quran.tsv"
      ],
      "execution_count": null,
      "outputs": [
        {
          "output_type": "stream",
          "text": [
            "--2021-06-09 11:56:38--  https://raw.githubusercontent.com/danielinux7/Multilingual-Parallel-Corpus/master/ab-ru/quran.tsv\n",
            "Resolving raw.githubusercontent.com (raw.githubusercontent.com)... 185.199.111.133, 185.199.108.133, 185.199.110.133, ...\n",
            "Connecting to raw.githubusercontent.com (raw.githubusercontent.com)|185.199.111.133|:443... connected.\n",
            "HTTP request sent, awaiting response... 200 OK\n",
            "Length: 2939223 (2.8M) [text/plain]\n",
            "Saving to: ‘quran.tsv’\n",
            "\n",
            "quran.tsv           100%[===================>]   2.80M  --.-KB/s    in 0.08s   \n",
            "\n",
            "2021-06-09 11:56:39 (33.5 MB/s) - ‘quran.tsv’ saved [2939223/2939223]\n",
            "\n"
          ],
          "name": "stdout"
        }
      ]
    },
    {
      "cell_type": "code",
      "metadata": {
        "colab": {
          "base_uri": "https://localhost:8080/"
        },
        "id": "0YObtr_fI8lP",
        "outputId": "10137209-acd2-4ba2-dcce-f44fc1cfd65e"
      },
      "source": [
        "alphabet_ab = re.compile('[ҟцукенгшәзхҿфывапролджҽџчсмитьбҩҵқӷӡҳԥҷҭ\\.\\:,;\\ 0-9-\\(\\)\"!?]+',re.I)\n",
        "alphabet_ru = re.compile('[ёйцукенгшщзхъфывапролджэячсмитьбю\\.\\:,;\\ 0-9-\\(\\)\"!?]+',re.I)\n",
        "alphabe_ab = re.compile('ҟцукенгшәзхҿфывапролджҽџчсмитьбҩҵқӷӡҳԥҷҭ',re.I)\n",
        "alphabe_ru = re.compile('ёйцукенгшщзхъфывапролджэячсмитьбю',re.I)\n",
        "sentence_signs = re.compile('[\\.\\:!?]+',re.I)\n",
        "\n",
        "\n",
        "#corp=pd.read_csv(\"/content/quran.tsv\", sep='\\t')\n",
        "\n",
        "\n",
        "\n",
        "def mis_punctuation(parallel_corpus):\n",
        "    filtered_punctuations = 0\n",
        "    ru_result_list = []\n",
        "    ab_result_list = []\n",
        "\n",
        "    for translation in parallel_corpus:\n",
        "        ru_signs = re.sub(alphabe_ru, \"\", translation[0]) #replacing alphabe_ru with \"\" in string translation[0]\n",
        "        ab_signs = re.sub(alphabe_ab, \"\", translation[1]) #replacing alphabe_ab with \"\" in string translation[1]\n",
        "        if ru_signs == ab_signs: #if both strings have same punctuattion\n",
        "            ru_result_list.append(translation[0])\n",
        "            ab_result_list.append(translation[1])\n",
        "        else:\n",
        "            filtered_punctuations += 1\n",
        "\n",
        "    print(\"filtered punctuations: \"+str(filtered_punctuations))\n",
        "\n",
        "    return list(zip(ru_result_list,ab_result_list))\n",
        "#corpa=filter_punctuation(corp)"
      ],
      "execution_count": null,
      "outputs": [
        {
          "output_type": "stream",
          "text": [
            "filtered punctuations: 0\n"
          ],
          "name": "stdout"
        }
      ]
    },
    {
      "cell_type": "code",
      "metadata": {
        "id": "kK_GSoZEyGFd"
      },
      "source": [
        ""
      ],
      "execution_count": null,
      "outputs": []
    }
  ]
}